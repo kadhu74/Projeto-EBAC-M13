{
 "cells": [
  {
   "cell_type": "code",
   "execution_count": null,
   "id": "5a01e130",
   "metadata": {
    "lines_to_next_cell": 2
   },
   "outputs": [],
   "source": [
    "import matplotlib.pyplot as plt\n",
    "import pandas as pd\n",
    "import plotly.express as px\n",
    "import numpy as np"
   ]
  },
  {
   "cell_type": "code",
   "execution_count": null,
   "id": "2f82ef83",
   "metadata": {},
   "outputs": [],
   "source": [
    "df = pd.read_csv('../dados/MODULO7_PROJETOFINAL_BASE_SUPERMERCADO.csv', delimiter=',')\n",
    "pd.set_option('display.width', 200)\n",
    "pd.set_option('display.max_columns', None)\n",
    "pd.set_option('display.max_colwidth', None)"
   ]
  },
  {
   "cell_type": "code",
   "execution_count": null,
   "id": "97349713",
   "metadata": {},
   "outputs": [],
   "source": [
    "print(df.head(10))"
   ]
  },
  {
   "cell_type": "markdown",
   "id": "19dbdc60",
   "metadata": {},
   "source": [
    "1° - Traga a média e a mediana dos preços - coluna Preco_Normal - por categoria de produto."
   ]
  },
  {
   "cell_type": "code",
   "execution_count": null,
   "id": "f77288b6",
   "metadata": {},
   "outputs": [],
   "source": [
    "# MÉDIA\n",
    "media_por_categoria = df.groupby('Categoria')['Preco_Normal'].mean()\n",
    "print(f'Média:', media_por_categoria)"
   ]
  },
  {
   "cell_type": "code",
   "execution_count": null,
   "id": "f78ad22a",
   "metadata": {},
   "outputs": [],
   "source": [
    "# MEDIANA\n",
    "mediana_por_categoria = df.groupby('Categoria')['Preco_Normal'].median()\n",
    "print(f'Mediana:', mediana_por_categoria)"
   ]
  },
  {
   "cell_type": "markdown",
   "id": "c6d9efa3",
   "metadata": {},
   "source": [
    "Identifique as categorias que parecem ter um valor de média abaixo ou acima da mediana."
   ]
  },
  {
   "cell_type": "code",
   "execution_count": null,
   "id": "0ed7520f",
   "metadata": {},
   "outputs": [],
   "source": [
    "comparativo = pd.DataFrame({\n",
    "                            'Média': media_por_categoria,\n",
    "                            'Mediana': mediana_por_categoria\n",
    "})"
   ]
  },
  {
   "cell_type": "code",
   "execution_count": null,
   "id": "d02acee8",
   "metadata": {},
   "outputs": [],
   "source": [
    "comparativo = comparativo.sort_values('Média', ascending=False)\n",
    "print(comparativo)"
   ]
  },
  {
   "cell_type": "markdown",
   "id": "7784bda6",
   "metadata": {},
   "source": [
    "Categorias com valor de Média ABAIXO da Mediana:\n",
    "comidas-preparadas"
   ]
  },
  {
   "cell_type": "markdown",
   "id": "0890b5e0",
   "metadata": {
    "lines_to_next_cell": 2
   },
   "source": [
    "Categorias com valor de Média ACIMA da Mediana:\n",
    "lacteos, congelados, belleza-y-cuidado-personal, frutas, verduras, instantaneos-y-sopas"
   ]
  },
  {
   "cell_type": "markdown",
   "id": "7c4630b8",
   "metadata": {},
   "source": [
    "2° - Traga o desvio padrão por categoria de produto."
   ]
  },
  {
   "cell_type": "code",
   "execution_count": null,
   "id": "3652c834",
   "metadata": {
    "lines_to_next_cell": 2
   },
   "outputs": [],
   "source": [
    "desvio_por_categoria = df.groupby('Categoria')['Preco_Normal'].std()\n",
    "print(f'Desvio Padrão:', desvio_por_categoria)"
   ]
  },
  {
   "cell_type": "markdown",
   "id": "39c0e493",
   "metadata": {},
   "source": [
    "Qual o comportamento da média e mediana nas categorias com maior desvio?"
   ]
  },
  {
   "cell_type": "code",
   "execution_count": null,
   "id": "dd07cc80",
   "metadata": {},
   "outputs": [],
   "source": [
    "comparacao = pd.DataFrame({\n",
    "                            'Média': media_por_categoria,\n",
    "                            'Mediana': mediana_por_categoria,\n",
    "                            'Desvio Padrão': desvio_por_categoria\n",
    "})\n",
    "comparacao = comparacao.sort_values('Desvio Padrão', ascending=False)\n",
    "print(comparacao)"
   ]
  },
  {
   "cell_type": "markdown",
   "id": "34082533",
   "metadata": {},
   "source": [
    " RESPOSTA: nas categorias lacteos, belleza-y-cuidado-personal e congelados tiveram o desvio padrão é altíssimo, nos mostrando a grande variação de preço.\n",
    " Isso significa que existem produtos com preços muito altos ou muito baixos, o que eleva o desvio padrão\n",
    "As categorias: comidas-preparas, verduras e frutas tem o desvio padrão ABAIXO da média. Isso nos mostra que não há grande dispersão nos preços"
   ]
  },
  {
   "cell_type": "code",
   "execution_count": null,
   "id": "f434315f",
   "metadata": {},
   "outputs": [],
   "source": []
  },
  {
   "cell_type": "markdown",
   "id": "e65695c7",
   "metadata": {},
   "source": [
    "3° - Plot um boxplot da distribuição do Preco_Normal para a categoria que você identificou que tem o maior desvio padrão."
   ]
  },
  {
   "cell_type": "code",
   "execution_count": null,
   "id": "83163569",
   "metadata": {
    "lines_to_next_cell": 2
   },
   "outputs": [],
   "source": [
    "df_lacteos = df.loc[df['Categoria'] == 'lacteos']\n",
    "fig = px.box(df_lacteos, y='Preco_Normal', title='Distribuição dos Preços - Categoria Lacteos')\n",
    "fig.show()"
   ]
  },
  {
   "cell_type": "markdown",
   "id": "d312bcc7",
   "metadata": {
    "lines_to_next_cell": 2
   },
   "source": [
    "Como é a distribuição desses dados segundo o boxplot? Você identifica muitos outliers?\n",
    " RESPOSTA: A distribuição dos dados nos mostra que a maior parte dos preços está concentrada entre o Q1 e o Q3. Porém, observamos uma grande quantidade de outliers acima do limite superior, indicando uma ampla dispersão nos preços — provavelmente causada por produtos importados ou considerados “premium”. Também é possível notar que não há outliers abaixo do valor mínimo, o que evidencia que os produtos de preço mais baixo estão dentro do esperado."
   ]
  },
  {
   "cell_type": "markdown",
   "id": "a9eb5437",
   "metadata": {},
   "source": [
    "4° - Plote um gráfico de barras onde temos a média de descontos por categoria."
   ]
  },
  {
   "cell_type": "code",
   "execution_count": null,
   "id": "30ab8e07",
   "metadata": {},
   "outputs": [],
   "source": [
    "# Substitui zeros por NaN para limpeza\n",
    "df.loc[df['Preco_Normal'] == 0, 'Preco_Normal'] = np.nan"
   ]
  },
  {
   "cell_type": "code",
   "execution_count": null,
   "id": "4d7ceab8",
   "metadata": {},
   "outputs": [],
   "source": [
    "# Filtra apenas os produtos com desconto (independente do preço normal)\n",
    "produtos_com_desconto = df[df['Desconto'] > 0]"
   ]
  },
  {
   "cell_type": "code",
   "execution_count": null,
   "id": "1c97483e",
   "metadata": {},
   "outputs": [],
   "source": [
    "print(f'Total de produtos com desconto: {len(produtos_com_desconto)}')\n",
    "print(produtos_com_desconto[['Categoria', 'Desconto', 'Preco_Normal']].head(10))"
   ]
  },
  {
   "cell_type": "code",
   "execution_count": null,
   "id": "cfc1673c",
   "metadata": {},
   "outputs": [],
   "source": [
    "# Calcula média de desconto absoluto por categoria\n",
    "media_desconto_reais = produtos_com_desconto.groupby('Categoria')['Desconto'].mean().sort_values(ascending=False)"
   ]
  },
  {
   "cell_type": "code",
   "execution_count": null,
   "id": "0c89b714",
   "metadata": {
    "lines_to_next_cell": 2
   },
   "outputs": [],
   "source": [
    "print('Média de desconto (CLP) por categoria:\\n', media_desconto_reais)"
   ]
  },
  {
   "cell_type": "code",
   "execution_count": null,
   "id": "fb87d933",
   "metadata": {},
   "outputs": [],
   "source": [
    "# criando o grafico de barras\n",
    "fig = px.bar(\n",
    "    media_desconto_reais,\n",
    "    x=media_desconto_reais.index,\n",
    "    y=media_desconto_reais.values,\n",
    "    labels={'x': 'Categoria', 'y': 'Média do Desconto (CLP)'},\n",
    "    title='Média de Desconto (Pesos Chilenos) por Categoria'\n",
    ")"
   ]
  },
  {
   "cell_type": "code",
   "execution_count": null,
   "id": "80e1101f",
   "metadata": {
    "lines_to_next_cell": 2
   },
   "outputs": [],
   "source": [
    "fig.update_layout(xaxis_tickangle=-45)\n",
    "fig.show()"
   ]
  },
  {
   "cell_type": "markdown",
   "id": "3f650d84",
   "metadata": {},
   "source": [
    "5° - Plote um gráfico de mapa interativo agrupando os dados por categoria, marca e trazendo a média de desconto."
   ]
  },
  {
   "cell_type": "code",
   "execution_count": null,
   "id": "095aa8b1",
   "metadata": {},
   "outputs": [],
   "source": [
    "# Agrupa por Categoria e Marca, calcula a média do desconto\n",
    "df_grouped = df.groupby(['Categoria', 'Marca'])['Desconto'].mean().reset_index()"
   ]
  },
  {
   "cell_type": "code",
   "execution_count": null,
   "id": "f5bee1fe",
   "metadata": {},
   "outputs": [],
   "source": [
    "# Cria o treemap\n",
    "fig = px.treemap(\n",
    "    df_grouped,\n",
    "    path=['Categoria', 'Marca'],\n",
    "    values='Desconto',\n",
    "    title='Média de Desconto por Categoria e Marca'\n",
    ")"
   ]
  },
  {
   "cell_type": "code",
   "execution_count": null,
   "id": "094c864a",
   "metadata": {},
   "outputs": [],
   "source": [
    "fig.show()"
   ]
  }
 ],
 "metadata": {
  "jupytext": {
   "cell_metadata_filter": "-all",
   "main_language": "python",
   "notebook_metadata_filter": "-all"
  }
 },
 "nbformat": 4,
 "nbformat_minor": 5
}
